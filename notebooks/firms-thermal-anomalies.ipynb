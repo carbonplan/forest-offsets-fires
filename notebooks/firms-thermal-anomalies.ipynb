{
 "cells": [
  {
   "cell_type": "code",
   "execution_count": null,
   "id": "cecd26dc-9f12-40d8-a766-4067f1b0f756",
   "metadata": {
    "tags": []
   },
   "outputs": [],
   "source": [
    "import geopandas as gpd\n",
    "import pandas as pd\n",
    "import xarray as xr\n",
    "import numpy as np\n",
    "import pygmt\n",
    "import os"
   ]
  },
  {
   "cell_type": "code",
   "execution_count": null,
   "id": "961c922f-a33d-4fee-889c-39b68e28e8cb",
   "metadata": {
    "tags": []
   },
   "outputs": [],
   "source": [
    "key = os.environ[\"FIRMS_MAP_KEY\"]"
   ]
  },
  {
   "cell_type": "code",
   "execution_count": null,
   "id": "8baed403-b00b-4ab2-a452-2571c407841e",
   "metadata": {},
   "outputs": [],
   "source": [
    "pixels_per_tile = 512 * 2\n",
    "date = \"2023-06-25\"\n",
    "base = \"https://firms.modaps.eosdis.nasa.gov/usfs/api/area/csv/\""
   ]
  },
  {
   "cell_type": "code",
   "execution_count": null,
   "id": "393e5c4e-d17c-4241-975c-8bc07a0709e5",
   "metadata": {},
   "outputs": [],
   "source": [
    "df = gpd.pd.read_csv(f\"{base}{key}/VIIRS_SNPP_NRT/world/1/{date}\")\n",
    "df = df[df['confidence'] == 'h']\n",
    "df['acq_date'] = pd.to_datetime(df['acq_date'])\n",
    "df['registered'] = 1\n",
    "df"
   ]
  },
  {
   "cell_type": "code",
   "execution_count": null,
   "id": "2ab79ee8-cac5-4c8a-8168-f7476a113278",
   "metadata": {},
   "outputs": [],
   "source": [
    "def rasterize_frp(df: pd.DataFrame) -> xr.Dataset:\n",
    "    if len(df['acq_date'].unique()) > 1:\n",
    "        raise ValueError('Multiple dates in input_dataframe')\n",
    "    active = pygmt.xyz2grd(\n",
    "        data=df[['longitude', 'latitude', 'registered']],\n",
    "        region=[-180, 180, -90, 90],\n",
    "        spacing=\"400e\",\n",
    "        duplicate=\"u\",\n",
    "        registration=\"p\",\n",
    "    ).chunk({'lon': pixels_per_tile, 'lat': pixels_per_tile})\n",
    "    active = xr.where(active.notnull(), 1, 0).astype('i1')\n",
    "    active = active.assign_coords({'time': df['acq_date'].iloc[0]}).expand_dims('time').astype('f2')\n",
    "    active.attrs['_FillValue'] = 0\n",
    "    active = active.to_dataset(name='active')\n",
    "    return active"
   ]
  },
  {
   "cell_type": "code",
   "execution_count": null,
   "id": "943f2d0a-7b33-4be1-8f1e-ec6fdc9a6ff7",
   "metadata": {},
   "outputs": [],
   "source": [
    "burned = rasterize_frp(df)\n",
    "burned"
   ]
  },
  {
   "cell_type": "code",
   "execution_count": null,
   "id": "f9b2088e-43e7-45e5-89b3-8a906b9c2b52",
   "metadata": {},
   "outputs": [],
   "source": [
    "store = f's3://carbonplan-scratch/firms-data/firms-{date}.zarr'\n",
    "store"
   ]
  },
  {
   "cell_type": "code",
   "execution_count": null,
   "id": "7b93d6d2-452f-4459-b437-ba8869e79d1b",
   "metadata": {
    "tags": []
   },
   "outputs": [],
   "source": [
    "burned.to_zarr(\n",
    "    store,\n",
    "    encoding={'active': {\"write_empty_chunks\": False, \"dtype\": 'i1'}},\n",
    "    mode=\"w\",\n",
    "    consolidated=True,\n",
    ")"
   ]
  },
  {
   "cell_type": "markdown",
   "id": "e1dc2f77-c28a-4ba3-a484-a0bc662bb376",
   "metadata": {},
   "source": [
    "## Check sparsity"
   ]
  },
  {
   "cell_type": "code",
   "execution_count": null,
   "id": "b2c747e3-c70d-4c5e-9cdd-358a3c9d84d1",
   "metadata": {},
   "outputs": [],
   "source": [
    "import zarr"
   ]
  },
  {
   "cell_type": "code",
   "execution_count": null,
   "id": "b5f6bbf2-1ebd-4c36-89d8-add2e926ef00",
   "metadata": {},
   "outputs": [],
   "source": [
    "root = zarr.open_consolidated(store)\n",
    "print(f'nchunks: {root[\"active\"].nchunks}')\n",
    "print(f'nchunks_initiliazed: {root[\"active\"].nchunks_initialized}')\n",
    "print(root[\"active\"].dtype)"
   ]
  },
  {
   "cell_type": "markdown",
   "id": "77c1c33e-a0c4-4309-8c32-ca17815eb969",
   "metadata": {},
   "source": [
    "## Generate pyramids"
   ]
  },
  {
   "cell_type": "code",
   "execution_count": null,
   "id": "30b69d51-241f-4092-aee1-39ddf6f710e4",
   "metadata": {},
   "outputs": [],
   "source": [
    "from ndpyramid import pyramid_reproject\n",
    "import xarray as xr\n",
    "import regionmask\n",
    "import rioxarray"
   ]
  },
  {
   "cell_type": "code",
   "execution_count": null,
   "id": "d71969ef-b2c9-4610-8582-f33596de756e",
   "metadata": {},
   "outputs": [],
   "source": [
    "ds = xr.open_zarr(store, consolidated=True)\n",
    "print(ds.active.dtype.str)"
   ]
  },
  {
   "cell_type": "code",
   "execution_count": null,
   "id": "eaa30c02-92b8-48c4-8d11-908f0773261a",
   "metadata": {},
   "outputs": [],
   "source": [
    "mask = regionmask.defined_regions.natural_earth_v5_0_0.countries_110.mask(ds)\n",
    "mask"
   ]
  },
  {
   "cell_type": "code",
   "execution_count": null,
   "id": "32cdf51a-ee8e-41aa-903a-35910b55f8cb",
   "metadata": {},
   "outputs": [],
   "source": [
    "ds = ds.where(mask == 4).fillna(0).load()\n",
    "ds"
   ]
  },
  {
   "cell_type": "code",
   "execution_count": null,
   "id": "649a9eba-f686-428b-901d-10dd3e1a630f",
   "metadata": {},
   "outputs": [],
   "source": [
    "LEVELS = 1\n",
    "dt = pyramid_reproject(ds.rio.write_crs(\"EPSG:4326\"), levels=LEVELS, resampling=\"sum\")"
   ]
  },
  {
   "cell_type": "code",
   "execution_count": null,
   "id": "f1fa5982-c1bf-4324-9ced-3e696f8c2c2b",
   "metadata": {},
   "outputs": [],
   "source": [
    "for child in dt.children:\n",
    "    dt[child] = xr.where(dt[child] > 0, 1, 0)\n",
    "    dt[child].active.attrs['_FillValue'] = 0"
   ]
  },
  {
   "cell_type": "code",
   "execution_count": null,
   "id": "544bdd43-751a-45ba-bfcf-ef8e5488ec7b",
   "metadata": {},
   "outputs": [],
   "source": [
    "encoding = {\n",
    "    '/0': {'burned': {\"write_empty_chunks\": False}},\n",
    "    '/1': {'burned': {\"write_empty_chunks\": False}},\n",
    "    '/2': {'burned': {\"write_empty_chunks\": False}},\n",
    "    '/3': {'burned': {\"write_empty_chunks\": False}},\n",
    "    '/4': {'burned': {\"write_empty_chunks\": False}},\n",
    "    '/5': {'burned': {\"write_empty_chunks\": False}},\n",
    "    # '/6': {'burned': {\"write_empty_chunks\": False}},\n",
    "    # '/7': {'burned': {\"write_empty_chunks\": False}},\n",
    "}"
   ]
  },
  {
   "cell_type": "code",
   "execution_count": null,
   "id": "55f7fe14-0ecb-4125-af7d-d67630cd332c",
   "metadata": {},
   "outputs": [],
   "source": [
    "output_store = f's3://carbonplan-scratch/firms-data/firms-{date}-pyramids.zarr'\n",
    "dt.to_zarr(output_store, consolidated=True, encoding=encoding, mode=\"w\")"
   ]
  },
  {
   "cell_type": "code",
   "execution_count": null,
   "id": "c9e8e857-1f7a-4e5e-b2d9-8fe2e551a967",
   "metadata": {},
   "outputs": [],
   "source": [
    "root = zarr.open_consolidated(\"data/FIRMS_active.zarr\")\n",
    "for level in [\"0\", \"1\", \"2\", \"3\", \"4\", \"5\"]:\n",
    "    print(f'level {level}')\n",
    "    print(f'    nchunks: {root[level][\"burned\"].nchunks}')\n",
    "    print(f'    nchunks_initiliazed level: {root[level][\"burned\"].nchunks_initialized}')"
   ]
  }
 ],
 "metadata": {
  "kernelspec": {
   "display_name": "Python [conda env:forests-offsets-fire]",
   "language": "python",
   "name": "conda-env-forests-offsets-fire-py"
  },
  "language_info": {
   "codemirror_mode": {
    "name": "ipython",
    "version": 3
   },
   "file_extension": ".py",
   "mimetype": "text/x-python",
   "name": "python",
   "nbconvert_exporter": "python",
   "pygments_lexer": "ipython3",
   "version": "3.10.12"
  }
 },
 "nbformat": 4,
 "nbformat_minor": 5
}
