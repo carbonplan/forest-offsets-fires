{
 "cells": [
  {
   "cell_type": "code",
   "execution_count": null,
   "id": "cecd26dc-9f12-40d8-a766-4067f1b0f756",
   "metadata": {
    "tags": []
   },
   "outputs": [],
   "source": [
    "import geopandas as gpd\n",
    "import pandas as pd\n",
    "import xarray as xr\n",
    "import numpy as np\n",
    "import pygmt\n",
    "import os\n",
    "from datetime import datetime"
   ]
  },
  {
   "cell_type": "code",
   "execution_count": null,
   "id": "8baed403-b00b-4ab2-a452-2571c407841e",
   "metadata": {
    "tags": []
   },
   "outputs": [],
   "source": [
    "pixels_per_tile = 512 * 2\n",
    "# Light subset of CONUS + Alaska\n",
    "min_lat = 24\n",
    "max_lat = 72\n",
    "min_lon = -180\n",
    "max_lon = -66\n",
    "\n",
    "pixels_per_tile = 512 * 2\n",
    "day_range = 3"
   ]
  },
  {
   "cell_type": "code",
   "execution_count": null,
   "id": "f9b2088e-43e7-45e5-89b3-8a906b9c2b52",
   "metadata": {
    "tags": []
   },
   "outputs": [],
   "source": [
    "store = f\"s3://carbonplan-scratch/firms-data/firms-{datetime.now().strftime('%Y-%m-%d')}.zarr\"\n",
    "store"
   ]
  },
  {
   "cell_type": "code",
   "execution_count": null,
   "id": "393e5c4e-d17c-4241-975c-8bc07a0709e5",
   "metadata": {
    "tags": []
   },
   "outputs": [],
   "source": [
    "base = \"https://firms.modaps.eosdis.nasa.gov/usfs/api/area/csv/\"\n",
    "subset_str = f\"{min_lon},{min_lat},{max_lon},{max_lat}\"\n",
    "df = gpd.pd.read_csv(f\"{base}{key}/VIIRS_SNPP_NRT/{subset_str}/{day_range}/\")\n",
    "df = df[df['confidence'] == 'h']\n",
    "df['acq_date'] = pd.to_datetime(df['acq_date'])\n",
    "df['registered'] = 1\n",
    "df"
   ]
  },
  {
   "cell_type": "code",
   "execution_count": null,
   "id": "2ab79ee8-cac5-4c8a-8168-f7476a113278",
   "metadata": {
    "tags": []
   },
   "outputs": [],
   "source": [
    "def rasterize_frp(df: pd.DataFrame) -> xr.Dataset:\n",
    "    active = pygmt.xyz2grd(\n",
    "        data=df[['longitude', 'latitude', 'registered']],\n",
    "        region=[min_lon, max_lon, min_lat, max_lat],\n",
    "        spacing=\"400e\",\n",
    "        duplicate=\"u\",\n",
    "        registration=\"p\",\n",
    "    ).chunk({'lon': pixels_per_tile, 'lat': pixels_per_tile})\n",
    "    active = xr.where(active.notnull(), 1, 0).astype('i1')\n",
    "    active.attrs['_FillValue'] = 0\n",
    "    active = active.to_dataset(name='active')\n",
    "    return active"
   ]
  },
  {
   "cell_type": "code",
   "execution_count": null,
   "id": "943f2d0a-7b33-4be1-8f1e-ec6fdc9a6ff7",
   "metadata": {
    "tags": []
   },
   "outputs": [],
   "source": [
    "burned = rasterize_frp(df)\n",
    "burned"
   ]
  },
  {
   "cell_type": "code",
   "execution_count": null,
   "id": "7b93d6d2-452f-4459-b437-ba8869e79d1b",
   "metadata": {
    "tags": []
   },
   "outputs": [],
   "source": [
    "burned.to_zarr(\n",
    "    store,\n",
    "    encoding={'active': {\"write_empty_chunks\": False, \"dtype\": 'i1'}},\n",
    "    mode=\"w\",\n",
    "    consolidated=True,\n",
    ")"
   ]
  },
  {
   "cell_type": "markdown",
   "id": "e1dc2f77-c28a-4ba3-a484-a0bc662bb376",
   "metadata": {},
   "source": [
    "## Check sparsity"
   ]
  },
  {
   "cell_type": "code",
   "execution_count": null,
   "id": "b2c747e3-c70d-4c5e-9cdd-358a3c9d84d1",
   "metadata": {
    "tags": []
   },
   "outputs": [],
   "source": [
    "import zarr"
   ]
  },
  {
   "cell_type": "code",
   "execution_count": null,
   "id": "b5f6bbf2-1ebd-4c36-89d8-add2e926ef00",
   "metadata": {
    "tags": []
   },
   "outputs": [],
   "source": [
    "root = zarr.open_consolidated(store)\n",
    "print(f'nchunks: {root[\"active\"].nchunks}')\n",
    "print(f'nchunks_initiliazed: {root[\"active\"].nchunks_initialized}')\n",
    "print(root[\"active\"].dtype)"
   ]
  },
  {
   "cell_type": "markdown",
   "id": "77c1c33e-a0c4-4309-8c32-ca17815eb969",
   "metadata": {},
   "source": [
    "## Generate pyramids"
   ]
  },
  {
   "cell_type": "code",
   "execution_count": null,
   "id": "30b69d51-241f-4092-aee1-39ddf6f710e4",
   "metadata": {
    "tags": []
   },
   "outputs": [],
   "source": [
    "from ndpyramid import pyramid_reproject\n",
    "import xarray as xr\n",
    "import regionmask\n",
    "import rioxarray\n",
    "import zarr\n",
    "import numpy as np\n",
    "from carbonplan_data.utils import set_zarr_encoding as set_web_zarr_encoding"
   ]
  },
  {
   "cell_type": "code",
   "execution_count": null,
   "id": "55f7fe14-0ecb-4125-af7d-d67630cd332c",
   "metadata": {
    "tags": []
   },
   "outputs": [],
   "source": [
    "output_store = f's3://carbonplan-forest-offsets/fires/firms_nrt/current-firms-hotspots.zarr'\n",
    "output_store\n",
    "LEVELS = 6"
   ]
  },
  {
   "cell_type": "code",
   "execution_count": null,
   "id": "d71969ef-b2c9-4610-8582-f33596de756e",
   "metadata": {
    "tags": []
   },
   "outputs": [],
   "source": [
    "ds = xr.open_zarr(store, consolidated=True)\n",
    "print(ds.active.dtype.str)"
   ]
  },
  {
   "cell_type": "code",
   "execution_count": null,
   "id": "649a9eba-f686-428b-901d-10dd3e1a630f",
   "metadata": {
    "tags": []
   },
   "outputs": [],
   "source": [
    "dt = pyramid_reproject(ds.rio.write_crs(\"EPSG:4326\"), levels=LEVELS, resampling=\"sum\")"
   ]
  },
  {
   "cell_type": "code",
   "execution_count": null,
   "id": "f1fa5982-c1bf-4324-9ced-3e696f8c2c2b",
   "metadata": {
    "tags": []
   },
   "outputs": [],
   "source": [
    "for child in dt.children:\n",
    "    dt[child]['active'] = xr.where(dt[child]['active'] > 0, 1, np.nan)\n",
    "    dt[child].ds = set_web_zarr_encoding(\n",
    "        dt[child].ds, codec_config={\"id\": \"zlib\", \"level\": 1}, float_dtype=\"float32\"\n",
    "    )"
   ]
  },
  {
   "cell_type": "code",
   "execution_count": null,
   "id": "9c5ec29c-f2f7-4e9f-a09b-369ccf1b3103",
   "metadata": {
    "tags": []
   },
   "outputs": [],
   "source": [
    "dt.to_zarr(output_store, consolidated=True, mode='w')"
   ]
  },
  {
   "cell_type": "markdown",
   "id": "2be76376-c8d0-452f-93a0-2b74c372c7d5",
   "metadata": {},
   "source": [
    "## Scratch"
   ]
  },
  {
   "cell_type": "code",
   "execution_count": null,
   "id": "c9e8e857-1f7a-4e5e-b2d9-8fe2e551a967",
   "metadata": {
    "tags": []
   },
   "outputs": [],
   "source": [
    "root = zarr.open_consolidated(output_store)\n",
    "for level in range(LEVELS):\n",
    "    slevel = str(level)\n",
    "    print(f'level {slevel}')\n",
    "    print(f'    nchunks: {root[slevel][\"active\"].nchunks}')\n",
    "    print(f'    nchunks_initiliazed level: {root[level][\"active\"].nchunks_initialized}')"
   ]
  },
  {
   "cell_type": "code",
   "execution_count": null,
   "id": "6078cd5c-e82d-4299-80f3-8d7d097332ac",
   "metadata": {
    "tags": []
   },
   "outputs": [],
   "source": [
    "root[\"0\"][\"active\"][:]"
   ]
  },
  {
   "cell_type": "code",
   "execution_count": null,
   "id": "469d20ed-6b1e-4668-baad-b72df61b692f",
   "metadata": {
    "tags": []
   },
   "outputs": [],
   "source": [
    "ds = xr.open_zarr('s3://carbonplan-forest-offsets/fires/firms_nrt/current-firms-hotspots.zarr/0/')\n",
    "ds"
   ]
  },
  {
   "cell_type": "code",
   "execution_count": null,
   "id": "57bb43db-11f7-4779-907c-16ac7d505c82",
   "metadata": {
    "tags": []
   },
   "outputs": [],
   "source": [
    "ds['active'].plot()"
   ]
  },
  {
   "cell_type": "code",
   "execution_count": null,
   "id": "d17c50c7-b569-44f4-bd8e-fe4be40c4fef",
   "metadata": {
    "tags": []
   },
   "outputs": [],
   "source": [
    "ds.active.load()"
   ]
  },
  {
   "cell_type": "code",
   "execution_count": null,
   "id": "00d6138c-ebac-4a0d-b031-d1f2b9f44103",
   "metadata": {
    "tags": []
   },
   "outputs": [],
   "source": [
    "ds.active.min()"
   ]
  },
  {
   "cell_type": "code",
   "execution_count": null,
   "id": "04fbb7e2-c6fd-490b-b889-0426c538af14",
   "metadata": {},
   "outputs": [],
   "source": []
  }
 ],
 "metadata": {
  "kernelspec": {
   "display_name": "Python [conda env:forests-offsets-fire]",
   "language": "python",
   "name": "conda-env-forests-offsets-fire-py"
  },
  "language_info": {
   "codemirror_mode": {
    "name": "ipython",
    "version": 3
   },
   "file_extension": ".py",
   "mimetype": "text/x-python",
   "name": "python",
   "nbconvert_exporter": "python",
   "pygments_lexer": "ipython3",
   "version": "3.10.12"
  }
 },
 "nbformat": 4,
 "nbformat_minor": 5
}
