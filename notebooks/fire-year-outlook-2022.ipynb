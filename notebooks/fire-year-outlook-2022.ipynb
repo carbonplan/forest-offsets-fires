{
 "cells": [
  {
   "cell_type": "code",
   "execution_count": null,
   "id": "c4f7ec81",
   "metadata": {},
   "outputs": [],
   "source": [
    "import json\n",
    "\n",
    "import fsspec\n",
    "import geopandas\n",
    "from shapely.geometry import Point\n",
    "\n",
    "from carbonplan_forest_offsets_fires import utils"
   ]
  },
  {
   "cell_type": "code",
   "execution_count": null,
   "id": "7d807339",
   "metadata": {},
   "outputs": [],
   "source": [
    "fire_potential_months = {1: 'june', 2: 'july', 3: 'august', 4: 'september'}\n",
    "ea_opr_ids = utils.list_all_ea_opr_ids()"
   ]
  },
  {
   "cell_type": "code",
   "execution_count": null,
   "id": "8df6a4f5",
   "metadata": {},
   "outputs": [],
   "source": [
    "with fsspec.open('gcs://carbonplan-forest-offsets/web/display-data.json', 'r') as f:\n",
    "    d = json.load(f)\n",
    "\n",
    "gs = geopandas.GeoSeries(\n",
    "    {\n",
    "        project['opr_id']: Point(*project['shape_centroid'])\n",
    "        for project in d\n",
    "        if project['opr_id'] not in ea_opr_ids\n",
    "    }\n",
    ")\n",
    "\n",
    "arbocs = {project['opr_id']: project['arbocs'] for project in d}\n",
    "\n",
    "gdf = geopandas.GeoDataFrame({'id': gs.index}, geometry=gs.geometry.values)\n",
    "gdf = gdf.set_crs('epsg:4326')"
   ]
  },
  {
   "cell_type": "code",
   "execution_count": null,
   "id": "5316e241",
   "metadata": {},
   "outputs": [],
   "source": [
    "store = {}\n",
    "for num, month in fire_potential_months.items():\n",
    "    risk = geopandas.read_file(\n",
    "        f'/tmp/nifc-forecast/FirePotentialbyPSA_Month{num}.shp'\n",
    "    )  # https://fsapps.nwcg.gov/psp/npsg/data/dynamic/monthly_extended_outlook.zip\n",
    "    above = risk[risk['FirePotent'] == 'Above']\n",
    "\n",
    "    projects_above_risk = geopandas.sjoin(above, gdf)['id'].unique().tolist()\n",
    "\n",
    "    store[month] = round(sum([arbocs[opr_id] for opr_id in projects_above_risk]) / 1_000_000, 2)\n",
    "\n",
    "with fsspec.open('gs://carbonplan-forest-offsets/fires/fire-season-2022-outlook.json', 'w') as f:\n",
    "    json.dump(store, f)"
   ]
  }
 ],
 "metadata": {
  "kernelspec": {
   "display_name": "Python 3",
   "language": "python",
   "name": "python3"
  },
  "language_info": {
   "codemirror_mode": {
    "name": "ipython",
    "version": 3
   },
   "file_extension": ".py",
   "mimetype": "text/x-python",
   "name": "python",
   "nbconvert_exporter": "python",
   "pygments_lexer": "ipython3",
   "version": "3.8.12"
  }
 },
 "nbformat": 4,
 "nbformat_minor": 5
}
