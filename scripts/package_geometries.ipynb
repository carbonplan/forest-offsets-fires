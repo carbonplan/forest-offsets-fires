{
 "cells": [
  {
   "cell_type": "markdown",
   "id": "83d632c8-5d1b-4e02-a458-e0536cb2bcc2",
   "metadata": {},
   "source": [
    "Many project geometries are big and complicated. This makes it very slow to repeatedly load and reproject data for 100+ projects. This notebook packages geometries we're interested in tracking into nice simplified geometries that are easier to work with. "
   ]
  },
  {
   "cell_type": "code",
   "execution_count": 1,
   "id": "690b5b75-eb3c-4383-8f7d-0d570c285be5",
   "metadata": {
    "tags": []
   },
   "outputs": [],
   "source": [
    "import json\n",
    "from pathlib import Path\n",
    "import subprocess\n",
    "\n",
    "import geopandas\n",
    "import fsspec\n",
    "import pandas as pd\n",
    "from tqdm import tqdm"
   ]
  },
  {
   "cell_type": "code",
   "execution_count": 7,
   "id": "bd508a60-cf91-4434-9ab6-2dd5fe10f5c9",
   "metadata": {
    "tags": []
   },
   "outputs": [],
   "source": [
    "s3 = fsspec.filesystem('s3', anon=False)\n",
    "\n",
    "# files from ARB endpoint (raw)\n",
    "# files from registiries (listed)\n",
    "s3_buckets = [\n",
    "    'carbonplan-forest-offsets/carb-geometries/raw',\n",
    "    'carbonplan-forest-offsets/carb-geometries/listed',\n",
    "]\n",
    "\n",
    "s3_paths = [fn for s3_bucket in s3_buckets for fn in s3.glob(s3_bucket + '/*.json')]"
   ]
  },
  {
   "cell_type": "code",
   "execution_count": 8,
   "id": "489346e5-0d18-4a77-8466-43f66f0fadf9",
   "metadata": {
    "tags": []
   },
   "outputs": [],
   "source": [
    "def simplify_geometry(fn) -> geopandas.GeoDataFrame:\n",
    "    \"\"\" \"Pass raw geometry through mapshaper\"\"\"\n",
    "    opr_id = Path(fn).stem\n",
    "    s3 = fsspec.filesystem('s3', anon=False)\n",
    "    with s3.open(fn) as f:\n",
    "        d = json.load(f)\n",
    "\n",
    "    # mapshaper uses `-` to denote stdin/stdout, so read from - and write to -\n",
    "    # ACR361 shapefile is so broken we have to really goose the simplification\n",
    "    if opr_id in ['ACR361']:\n",
    "        result = subprocess.run(\n",
    "            'mapshaper -i - -simplify 5% -o -',\n",
    "            text=True,\n",
    "            capture_output=True,\n",
    "            shell=True,\n",
    "            input=json.dumps(d),\n",
    "        )\n",
    "    else:\n",
    "        result = subprocess.run(\n",
    "            'mapshaper -i - -simplify 80% -o -',\n",
    "            text=True,\n",
    "            capture_output=True,\n",
    "            shell=True,\n",
    "            input=json.dumps(d),\n",
    "        )\n",
    "    gdf = geopandas.GeoDataFrame.from_features(json.loads(result.stdout))\n",
    "    gdf = gdf.set_crs('epsg:4326')\n",
    "    gdf = gdf.to_crs('epsg:5070')\n",
    "    return gdf"
   ]
  },
  {
   "cell_type": "code",
   "execution_count": 9,
   "id": "7489a4c4-bd95-433f-b658-6432ffaf193e",
   "metadata": {
    "tags": []
   },
   "outputs": [
    {
     "name": "stderr",
     "output_type": "stream",
     "text": [
      "100%|██████████| 169/169 [09:05<00:00,  3.23s/it]\n"
     ]
    }
   ],
   "source": [
    "results = []\n",
    "for fn in tqdm(s3_paths):\n",
    "    result = simplify_geometry(fn)\n",
    "    results.append(result)"
   ]
  },
  {
   "cell_type": "code",
   "execution_count": 10,
   "id": "5d529dc7-1f79-470c-9467-c09b1d74f733",
   "metadata": {
    "tags": []
   },
   "outputs": [],
   "source": [
    "gdf = pd.concat(results)"
   ]
  },
  {
   "cell_type": "code",
   "execution_count": 11,
   "id": "bdae521e-9736-4e8a-9cd0-2d637b77dfc4",
   "metadata": {
    "tags": []
   },
   "outputs": [],
   "source": [
    "with s3.open(f's3://carbonplan-forest-offsets/carb-geometries/all_carb_geoms.parquet', 'wb') as f:\n",
    "    gdf.to_parquet(f, compression='gzip', compression_level=9)"
   ]
  }
 ],
 "metadata": {
  "kernelspec": {
   "display_name": "Python 3 (ipykernel)",
   "language": "python",
   "name": "python3"
  },
  "language_info": {
   "codemirror_mode": {
    "name": "ipython",
    "version": 3
   },
   "file_extension": ".py",
   "mimetype": "text/x-python",
   "name": "python",
   "nbconvert_exporter": "python",
   "pygments_lexer": "ipython3",
   "version": "3.10.11"
  }
 },
 "nbformat": 4,
 "nbformat_minor": 5
}
